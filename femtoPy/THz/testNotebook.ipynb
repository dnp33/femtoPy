{
 "cells": [
  {
   "cell_type": "code",
   "execution_count": 7,
   "metadata": {
    "collapsed": false
   },
   "outputs": [
    {
     "data": {
      "text/plain": [
       "<module 'wvf' from 'C:\\\\Users\\\\Frank\\\\Documents\\\\David\\\\Software\\\\femtoPy\\\\femtoPy\\\\THz\\\\wvf.py'>"
      ]
     },
     "execution_count": 7,
     "metadata": {},
     "output_type": "execute_result"
    }
   ],
   "source": [
    "from femtoPy.Header import *\n",
    "from importlib import reload\n",
    "\n",
    "import spectroscopy as spc\n",
    "import wvf \n",
    "from templates import wfAvg\n",
    "\n",
    "reload(wvf)"
   ]
  },
  {
   "cell_type": "code",
   "execution_count": 9,
   "metadata": {
    "collapsed": false,
    "scrolled": false
   },
   "outputs": [
    {
     "name": "stdout",
     "output_type": "stream",
     "text": [
      "\n",
      "        this __init__ method initializes a waveform object with either a set of\n",
      "        waveforms from an average or a single waveform. It calculates the \n",
      "        Fourier transform, shifts/trims the time vector, and holds an\n",
      "        additional 'trimmed' frequency array\n",
      "\n",
      "        Parameters\n",
      "        ----------\n",
      "        loadFunc : user defined (or from module) function of the form \n",
      "                   def func(cls, **kwargs):\n",
      "                        (load waveform data)\n",
      "                        cls.t=___\n",
      "                        cls.wf=___  # avg wf. Not required if wfs defined\n",
      "                        cls.wfs=___ # waveforms from each avergage\n",
      "\n",
      "        peak_field : scales the waveform to the peak field\n",
      "        sens : scales waveform to lock-in sensitivity (dominant over peak_field)\n",
      "        tmin/tmax : min/max time to keep\n",
      "        fmin/fmax : range of frequencies with good signal/noise\n",
      "        tShift : time shift\n",
      "        **kwargs : arguments required by load function\n",
      "                   \n",
      "        \n"
     ]
    }
   ],
   "source": [
    "print(wvf.waveform.__init__.__doc__)"
   ]
  }
 ],
 "metadata": {
  "kernelspec": {
   "display_name": "Python [conda root]",
   "language": "python",
   "name": "conda-root-py"
  },
  "language_info": {
   "codemirror_mode": {
    "name": "ipython",
    "version": 3
   },
   "file_extension": ".py",
   "mimetype": "text/x-python",
   "name": "python",
   "nbconvert_exporter": "python",
   "pygments_lexer": "ipython3",
   "version": "3.5.2"
  }
 },
 "nbformat": 4,
 "nbformat_minor": 2
}
